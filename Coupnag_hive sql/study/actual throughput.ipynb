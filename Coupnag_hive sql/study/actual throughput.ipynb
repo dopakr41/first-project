{
 "cells": [
  {
   "cell_type": "code",
   "execution_count": 19,
   "metadata": {},
   "outputs": [],
   "source": [
    "from datetime import datetime\n",
    "import pandas as pd   # 추출된 자료를 데이터 프레임 형태로 사용하기 위한 라이브러리 호출 (Call library for cursor to dataframe)\n",
    "import numpy as np\n",
    "import seaborn as sns\n",
    "import matplotlib.pyplot as plt\n",
    "\n",
    "from pyhive import presto   # Hive와 연결하기 위한 라이브러리 호출 (Call library for connection to Hive)\n",
    "from requests.auth import HTTPBasicAuth   # Hive 계정인증을 위한 라이브러리 호출"
   ]
  },
  {
   "cell_type": "code",
   "execution_count": 20,
   "metadata": {},
   "outputs": [],
   "source": [
    "df2 = pd.read_excel(r\"C:\\Users\\dopark41\\OneDrive - Coupang Fulfillment Services\\Attachments\\GON2_RC2\\05. Report\\Employee.xlsx\")"
   ]
  },
  {
   "cell_type": "code",
   "execution_count": 21,
   "metadata": {},
   "outputs": [],
   "source": [
    "df2 = df2.rename(columns={'이름':'name', '사용자 ID':'userid'})\n",
    "df2 = df2[['name', 'userid']]"
   ]
  },
  {
   "cell_type": "code",
   "execution_count": 22,
   "metadata": {},
   "outputs": [],
   "source": [
    "\n",
    "\n",
    "var_id = 'dopark41'   # Hive ID\n",
    "var_ps = 'rbqlschlrh23###'   # Hive Password\n",
    "var_db = 'hive'   # DataBase Name (변경할 필요없음 / No need to change)\n",
    "var_url = 'cfs-presto.coupang.net'   # DataBase URL (변경할 필요없음 / No need to change)\n",
    "\n",
    "\n",
    "\n",
    "# Connection Type 2\n",
    "\n",
    "conn = presto.connect(host=var_url, port=443, protocol='https', catalog=var_db, username=var_id, password=var_ps)\n",
    "\n",
    "\n",
    "\n",
    "cur = conn.cursor()   # Cursor for Query Sending to DB # 접속 커서를 만드는 코드\n",
    "\n",
    "\n",
    "### Alternative Connection \n",
    "# 구동문\n"
   ]
  },
  {
   "cell_type": "code",
   "execution_count": 23,
   "metadata": {},
   "outputs": [],
   "source": [
    "# Test Query\n",
    "query =\\\n",
    "'''\n",
    "SELECT * FROM (WITH PICK as(WITH pick as(SELECT DISTINCT * FROM (SELECT date(INV.createdat) date\n",
    "\t\t\t,hour(INV.createdat) Timerange\n",
    "\t\t\t,INV.description\n",
    "\t\t\t,LOT.fullname\n",
    "\t\t\t,LOC.floor\n",
    "\t\t\t,SKU.id AS skuid\n",
    "\t\t\t,SKU.externalid AS externalskuid\n",
    "\t\t\t,SKU.name \n",
    "\t\t\t,abs(INV.quantity) qty\n",
    "\t\t\t,(abs(INV.quantity)*SKU.weight)/1000 as \"weight(kg)\"\n",
    "\t\t\t,SKU.capacitytype\n",
    "\t\t\t,CAST(usr.userid AS int) userid\n",
    "FROM hive . ods . inventory_logs AS INV\n",
    "INNER JOIN HIVE.ODS.LOTS      LOT ON LOT.ID = INV.LOTID\n",
    "INNER JOIN HIVE.ODS.LOCATIONS LOC ON LOC.ID = LOT.LOCATIONID\n",
    "INNER JOIN HIVE.ODS.SKUS      SKU ON SKU.ID = INV.SKUID\n",
    "INNER JOIN HIVE.ODS.CENTERS   CEN ON CEN.ID = LOT.CENTERID\n",
    "INNER JOIN ods.wms_users as usr on inv.workeruserid = usr.id\n",
    "WHERE 1 = 1\n",
    "AND CEN.ID IN (108)\n",
    "AND date(inv.createdat) = cast(current_date as date)\n",
    "AND inv.TYPE = 'TAKEAWAY'\n",
    "AND inv.adjusttype = 'REMOVE'))\n",
    "SELECT Timerange, floor, userid, CASE WHEN qty > 0 THEN 'pick'\n",
    "     \t ELSE '' END AS type, count(fullname) plt  \n",
    "\tFROM pick\n",
    "\tGROUP BY 1,2,3,4),\n",
    "\tSTOW AS(select HOUR(s.createdat) Timerange\n",
    "\t\t,CASE WHEN s.locationbarcode LIKE('108-0%') THEN '0.5'\n",
    "\t\t \t\t\tWHEN s.locationbarcode LIKE('108-1%') THEN '1'\n",
    "\t\t \t\t\tWHEN s.locationbarcode LIKE('108-3%') THEN '3'\n",
    "\t\t \t\t\tWHEN s.locationbarcode LIKE('108-4%') THEN '4'\n",
    "\t\t \t\t\tELSE '' END as floor\n",
    "    ,CAST(A.userid AS int) userid\n",
    "\t\t,CASE WHEN s.quantity > 0 THEN 'stow'\n",
    "     \t ELSE '' END AS type\n",
    "    ,count(s.quantity) plt\n",
    "    from ods.stow_work_logs s\n",
    "    JOIN ODS.WMS_USERS A ON (s.WORKERUSERID = A.ID)\n",
    "    where s.centerid = 108\n",
    "    and cast(s.createdat as date) = cast(current_date as date)\n",
    "    and s.eventtype = 'STOW'\n",
    "    and s.message = 'SUCCESS'\n",
    "    GROUP BY 1,2,3,4)\n",
    "SELECT * FROM PICK\n",
    "UNION\n",
    "SELECT * FROM STOW)\n",
    "ORDER BY 1,2,3,4\n",
    "'''\n",
    "\n",
    "cur.execute(query)   # Query를 실행 (Execute query)\n",
    "df = pd.DataFrame(cur.fetchall(), columns=[ix[0] for ix in cur.description])  # 실행된 Query에서 추출된 자료를 DataFrame형태로 전달 (Send executed query to DataFrame)\n",
    "\n",
    "conn.close()   # Close DataBase connection (추출완료 후, 연결종료를 실행해야 다른 프로그램에서 DataBase 접속이 가능해집니다) # 접속 종료 코드"
   ]
  },
  {
   "cell_type": "code",
   "execution_count": 24,
   "metadata": {},
   "outputs": [],
   "source": [
    "mdf = pd.merge(left=df, right=df2, on='userid', how='left')\n",
    "mdf = mdf[['Timerange', 'floor', 'name', 'type', 'plt']]"
   ]
  },
  {
   "cell_type": "code",
   "execution_count": 25,
   "metadata": {},
   "outputs": [],
   "source": [
    "# # 그림 사이즈 지정\n",
    "# fig, ax = plt.subplots( figsize=(5,4))\n",
    "\n",
    "# # 바차트 그리기\n",
    "# sns.barplot(x = mdf.index, y = mdf['plt'])"
   ]
  },
  {
   "cell_type": "code",
   "execution_count": 26,
   "metadata": {},
   "outputs": [],
   "source": [
    "# pivot_table 구성\n",
    "# pd.pivot_table(mdf, index=[\"name\", \"type\"], values='plt', aggfunc=np.sum)\n",
    "# pd.pivot_table(mdf, index='name', values='plt', columns='type', aggfunc=np.sum, fill_value='')"
   ]
  },
  {
   "cell_type": "code",
   "execution_count": 27,
   "metadata": {},
   "outputs": [],
   "source": [
    "# currunt date 구성\n",
    "now = datetime.now()\n",
    "current_time = now.strftime(\"%Y-%m-%d-%H-%M\")"
   ]
  },
  {
   "cell_type": "code",
   "execution_count": 28,
   "metadata": {},
   "outputs": [],
   "source": [
    "# Excel파일로 저장\n",
    "mdf.to_excel(f'actual_{current_time}.xlsx')"
   ]
  },
  {
   "cell_type": "code",
   "execution_count": 29,
   "metadata": {},
   "outputs": [
    {
     "name": "stdout",
     "output_type": "stream",
     "text": [
      "   total_bill   tip     sex smoker  day    time  size\n",
      "0       16.99  1.01  Female     No  Sun  Dinner     2\n",
      "1       10.34  1.66    Male     No  Sun  Dinner     3\n",
      "2       21.01  3.50    Male     No  Sun  Dinner     3\n",
      "3       23.68  3.31    Male     No  Sun  Dinner     2\n",
      "4       24.59  3.61  Female     No  Sun  Dinner     4\n"
     ]
    }
   ],
   "source": [
    "df = sns.load_dataset('tips')\n",
    "print(df.head())\n"
   ]
  },
  {
   "cell_type": "code",
   "execution_count": null,
   "metadata": {},
   "outputs": [],
   "source": []
  },
  {
   "cell_type": "markdown",
   "metadata": {},
   "source": []
  },
  {
   "cell_type": "code",
   "execution_count": null,
   "metadata": {},
   "outputs": [],
   "source": []
  }
 ],
 "metadata": {
  "kernelspec": {
   "display_name": "Python 3",
   "language": "python",
   "name": "python3"
  },
  "language_info": {
   "codemirror_mode": {
    "name": "ipython",
    "version": 3
   },
   "file_extension": ".py",
   "mimetype": "text/x-python",
   "name": "python",
   "nbconvert_exporter": "python",
   "pygments_lexer": "ipython3",
   "version": "3.10.7 (tags/v3.10.7:6cc6b13, Sep  5 2022, 14:08:36) [MSC v.1933 64 bit (AMD64)]"
  },
  "orig_nbformat": 4,
  "vscode": {
   "interpreter": {
    "hash": "0645ee286cefe3805bb2353f42ecbd5f5af2a08b2a94216f635a9542705c3b26"
   }
  }
 },
 "nbformat": 4,
 "nbformat_minor": 2
}
