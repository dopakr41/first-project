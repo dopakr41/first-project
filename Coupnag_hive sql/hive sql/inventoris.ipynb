{
 "cells": [
  {
   "cell_type": "code",
   "execution_count": 6,
   "metadata": {},
   "outputs": [],
   "source": [
    "from datetime import datetime\n",
    "import pandas as pd   # 추출된 자료를 데이터 프레임 형태로 사용하기 위한 라이브러리 호출 (Call library for cursor to dataframe)\n",
    "import numpy as np\n",
    "import seaborn as sns\n",
    "import matplotlib.pyplot as plt\n",
    "\n",
    "from pyhive import presto   # Hive와 연결하기 위한 라이브러리 호출 (Call library for connection to Hive)\n",
    "from requests.auth import HTTPBasicAuth   # Hive 계정인증을 위한 라이브러리 호출"
   ]
  },
  {
   "cell_type": "code",
   "execution_count": 7,
   "metadata": {},
   "outputs": [],
   "source": [
    "\n",
    "\n",
    "var_id = 'dopark41'   # Hive ID\n",
    "var_ps = 'rbqlschlrh23###'   # Hive Password\n",
    "var_db = 'hive'   # DataBase Name (변경할 필요없음 / No need to change)\n",
    "var_url = 'cfs-presto.coupang.net'   # DataBase URL (변경할 필요없음 / No need to change)\n",
    "\n",
    "\n",
    "\n",
    "# Connection Type 2\n",
    "\n",
    "conn = presto.connect(host=var_url, port=443, protocol='https', catalog=var_db, username=var_id, password=var_ps)\n",
    "\n",
    "\n",
    "\n",
    "cur = conn.cursor()   # Cursor for Query Sending to DB # 접속 커서를 만드는 코드\n",
    "\n",
    "\n",
    "### Alternative Connection \n",
    "# 구동문\n"
   ]
  },
  {
   "cell_type": "code",
   "execution_count": 8,
   "metadata": {},
   "outputs": [],
   "source": [
    "# Test Query\n",
    "query =\\\n",
    "'''\n",
    "WITH LOCATIONS AS\n",
    "(SELECT LOTS.ID\n",
    "\t\t\t, LOTS.CENTERID\n",
    "      , LO.TYPE\n",
    "\t\t\t, LOTS.FULLNAME\n",
    "\t\t  , BINS.NAME\n",
    "      , BINS.LENGTH\n",
    "      , BINS.WIDTH\n",
    "      , BINS.HEIGHT\n",
    "      , BINS.VOLUME AS CBM\n",
    "      , CAST(LO.FLOOR AS DOUBLE) FLOOR -- SQL == DOUBLE(실수형), PYTHON == PLOAT(실수형)\n",
    "      , LO.ZONE\n",
    "      , CAST(LO.AISLE AS DOUBLE) AISLE\n",
    "      , CAST(LO.BAY AS DOUBLE) BAY\n",
    "\t\t\t, LOTS.SHELF AS BIN\n",
    "      , LOTS.TEMP -- 임시여부\n",
    "      , LOTS.ISUSABLE AS ACTIVE_BIN --BIN사용여부 '1 == TRUE(활성화), 0 == FALSE (비활성화)'\n",
    "FROM ODS.LOTS LOTS\n",
    "JOIN ODS.CENTER_BINS BINS ON LOTS.BINID = BINS.ID\n",
    "JOIN ODS.LOCATIONS LO ON LOTS.LOCATIONID = LO.ID\n",
    "\tWHERE 1 = 1\n",
    "\t\tAND LOTS.CENTERID = 129 -- 센터코드\n",
    "\t\tAND LO.TYPE IN ('BUFFER','PICKING')\n",
    "),\n",
    "INVENTORYS AS\n",
    "(SELECT INV.LOTID, SKU.EXTERNALID, SKU.NAME, INV.QUANTITY, INV.CREATEDAT\n",
    "FROM ODS.INVENTORIES INV JOIN ODS.SKUS SKU ON INV.SKUID = SKU.ID\n",
    " \tWHERE 1 = 1\n",
    " \t\tAND QUANTITY > 0)\n",
    "SELECT  LOC.CENTERID\n",
    "      , LOC.TYPE\n",
    "      , LOC.FULLNAME\n",
    "      , LOC.NAME\n",
    "      , LOC.LENGTH\n",
    "      , LOC.WIDTH\n",
    "      , LOC.HEIGHT\n",
    "      , LOC.CBM\n",
    "      , LOC.FLOOR\n",
    "      , LOC.ZONE\n",
    "      , LOC.AISLE\n",
    "      , LOC.BAY\n",
    "      , LOC.BIN\n",
    "      , LOC.TEMP\n",
    "      , LOC.ACTIVE_BIN\n",
    "\t\t\t, INV.EXTERNALID\n",
    "\t\t\t, INV.NAME\n",
    "\t\t\t, INV.QUANTITY\n",
    "\t\t\t, INV.CREATEDAT -- 진열 시점\n",
    "FROM LOCATIONS LOC LEFT JOIN INVENTORYS INV ON LOC.ID = INV.LOTID\n",
    "ORDER BY 9, 10, 11, 12, 13\n",
    "'''\n",
    "\n",
    "cur.execute(query)   # Query를 실행 (Execute query)\n",
    "df = pd.DataFrame(cur.fetchall(), columns=[ix[0] for ix in cur.description])  # 실행된 Query에서 추출된 자료를 DataFrame형태로 전달 (Send executed query to DataFrame)\n",
    "\n",
    "conn.close()   # Close DataBase connection (추출완료 후, 연결종료를 실행해야 다른 프로그램에서 DataBase 접속이 가능해집니다) # 접속 종료 코드"
   ]
  },
  {
   "cell_type": "code",
   "execution_count": 9,
   "metadata": {},
   "outputs": [],
   "source": [
    "# currunt date 구성\n",
    "now = datetime.now()\n",
    "current_time = now.strftime(\"%Y-%m-%d-%H-%M\")"
   ]
  },
  {
   "cell_type": "code",
   "execution_count": 10,
   "metadata": {},
   "outputs": [
    {
     "ename": "IllegalCharacterError",
     "evalue": "",
     "output_type": "error",
     "traceback": [
      "\u001b[1;31m---------------------------------------------------------------------------\u001b[0m",
      "\u001b[1;31mIllegalCharacterError\u001b[0m                     Traceback (most recent call last)",
      "Cell \u001b[1;32mIn [10], line 2\u001b[0m\n\u001b[0;32m      1\u001b[0m \u001b[39m# Excel파일로 저장\u001b[39;00m\n\u001b[1;32m----> 2\u001b[0m df\u001b[39m.\u001b[39;49mto_excel(\u001b[39mf\u001b[39;49m\u001b[39m'\u001b[39;49m\u001b[39mactual_\u001b[39;49m\u001b[39m{\u001b[39;49;00mcurrent_time\u001b[39m}\u001b[39;49;00m\u001b[39m.xlsx\u001b[39;49m\u001b[39m'\u001b[39;49m)\n",
      "File \u001b[1;32mc:\\Users\\dopark41\\AppData\\Local\\Programs\\Python\\Python310\\lib\\site-packages\\pandas\\util\\_decorators.py:211\u001b[0m, in \u001b[0;36mdeprecate_kwarg.<locals>._deprecate_kwarg.<locals>.wrapper\u001b[1;34m(*args, **kwargs)\u001b[0m\n\u001b[0;32m    209\u001b[0m     \u001b[39melse\u001b[39;00m:\n\u001b[0;32m    210\u001b[0m         kwargs[new_arg_name] \u001b[39m=\u001b[39m new_arg_value\n\u001b[1;32m--> 211\u001b[0m \u001b[39mreturn\u001b[39;00m func(\u001b[39m*\u001b[39margs, \u001b[39m*\u001b[39m\u001b[39m*\u001b[39mkwargs)\n",
      "File \u001b[1;32mc:\\Users\\dopark41\\AppData\\Local\\Programs\\Python\\Python310\\lib\\site-packages\\pandas\\util\\_decorators.py:211\u001b[0m, in \u001b[0;36mdeprecate_kwarg.<locals>._deprecate_kwarg.<locals>.wrapper\u001b[1;34m(*args, **kwargs)\u001b[0m\n\u001b[0;32m    209\u001b[0m     \u001b[39melse\u001b[39;00m:\n\u001b[0;32m    210\u001b[0m         kwargs[new_arg_name] \u001b[39m=\u001b[39m new_arg_value\n\u001b[1;32m--> 211\u001b[0m \u001b[39mreturn\u001b[39;00m func(\u001b[39m*\u001b[39margs, \u001b[39m*\u001b[39m\u001b[39m*\u001b[39mkwargs)\n",
      "File \u001b[1;32mc:\\Users\\dopark41\\AppData\\Local\\Programs\\Python\\Python310\\lib\\site-packages\\pandas\\core\\generic.py:2374\u001b[0m, in \u001b[0;36mNDFrame.to_excel\u001b[1;34m(self, excel_writer, sheet_name, na_rep, float_format, columns, header, index, index_label, startrow, startcol, engine, merge_cells, encoding, inf_rep, verbose, freeze_panes, storage_options)\u001b[0m\n\u001b[0;32m   2361\u001b[0m \u001b[39mfrom\u001b[39;00m \u001b[39mpandas\u001b[39;00m\u001b[39m.\u001b[39;00m\u001b[39mio\u001b[39;00m\u001b[39m.\u001b[39;00m\u001b[39mformats\u001b[39;00m\u001b[39m.\u001b[39;00m\u001b[39mexcel\u001b[39;00m \u001b[39mimport\u001b[39;00m ExcelFormatter\n\u001b[0;32m   2363\u001b[0m formatter \u001b[39m=\u001b[39m ExcelFormatter(\n\u001b[0;32m   2364\u001b[0m     df,\n\u001b[0;32m   2365\u001b[0m     na_rep\u001b[39m=\u001b[39mna_rep,\n\u001b[1;32m   (...)\u001b[0m\n\u001b[0;32m   2372\u001b[0m     inf_rep\u001b[39m=\u001b[39minf_rep,\n\u001b[0;32m   2373\u001b[0m )\n\u001b[1;32m-> 2374\u001b[0m formatter\u001b[39m.\u001b[39;49mwrite(\n\u001b[0;32m   2375\u001b[0m     excel_writer,\n\u001b[0;32m   2376\u001b[0m     sheet_name\u001b[39m=\u001b[39;49msheet_name,\n\u001b[0;32m   2377\u001b[0m     startrow\u001b[39m=\u001b[39;49mstartrow,\n\u001b[0;32m   2378\u001b[0m     startcol\u001b[39m=\u001b[39;49mstartcol,\n\u001b[0;32m   2379\u001b[0m     freeze_panes\u001b[39m=\u001b[39;49mfreeze_panes,\n\u001b[0;32m   2380\u001b[0m     engine\u001b[39m=\u001b[39;49mengine,\n\u001b[0;32m   2381\u001b[0m     storage_options\u001b[39m=\u001b[39;49mstorage_options,\n\u001b[0;32m   2382\u001b[0m )\n",
      "File \u001b[1;32mc:\\Users\\dopark41\\AppData\\Local\\Programs\\Python\\Python310\\lib\\site-packages\\pandas\\io\\formats\\excel.py:924\u001b[0m, in \u001b[0;36mExcelFormatter.write\u001b[1;34m(self, writer, sheet_name, startrow, startcol, freeze_panes, engine, storage_options)\u001b[0m\n\u001b[0;32m    921\u001b[0m     need_save \u001b[39m=\u001b[39m \u001b[39mTrue\u001b[39;00m\n\u001b[0;32m    923\u001b[0m \u001b[39mtry\u001b[39;00m:\n\u001b[1;32m--> 924\u001b[0m     writer\u001b[39m.\u001b[39;49m_write_cells(\n\u001b[0;32m    925\u001b[0m         formatted_cells,\n\u001b[0;32m    926\u001b[0m         sheet_name,\n\u001b[0;32m    927\u001b[0m         startrow\u001b[39m=\u001b[39;49mstartrow,\n\u001b[0;32m    928\u001b[0m         startcol\u001b[39m=\u001b[39;49mstartcol,\n\u001b[0;32m    929\u001b[0m         freeze_panes\u001b[39m=\u001b[39;49mfreeze_panes,\n\u001b[0;32m    930\u001b[0m     )\n\u001b[0;32m    931\u001b[0m \u001b[39mfinally\u001b[39;00m:\n\u001b[0;32m    932\u001b[0m     \u001b[39m# make sure to close opened file handles\u001b[39;00m\n\u001b[0;32m    933\u001b[0m     \u001b[39mif\u001b[39;00m need_save:\n",
      "File \u001b[1;32mc:\\Users\\dopark41\\AppData\\Local\\Programs\\Python\\Python310\\lib\\site-packages\\pandas\\io\\excel\\_openpyxl.py:496\u001b[0m, in \u001b[0;36mOpenpyxlWriter._write_cells\u001b[1;34m(self, cells, sheet_name, startrow, startcol, freeze_panes)\u001b[0m\n\u001b[0;32m    492\u001b[0m \u001b[39mfor\u001b[39;00m cell \u001b[39min\u001b[39;00m cells:\n\u001b[0;32m    493\u001b[0m     xcell \u001b[39m=\u001b[39m wks\u001b[39m.\u001b[39mcell(\n\u001b[0;32m    494\u001b[0m         row\u001b[39m=\u001b[39mstartrow \u001b[39m+\u001b[39m cell\u001b[39m.\u001b[39mrow \u001b[39m+\u001b[39m \u001b[39m1\u001b[39m, column\u001b[39m=\u001b[39mstartcol \u001b[39m+\u001b[39m cell\u001b[39m.\u001b[39mcol \u001b[39m+\u001b[39m \u001b[39m1\u001b[39m\n\u001b[0;32m    495\u001b[0m     )\n\u001b[1;32m--> 496\u001b[0m     xcell\u001b[39m.\u001b[39;49mvalue, fmt \u001b[39m=\u001b[39m \u001b[39mself\u001b[39m\u001b[39m.\u001b[39m_value_with_fmt(cell\u001b[39m.\u001b[39mval)\n\u001b[0;32m    497\u001b[0m     \u001b[39mif\u001b[39;00m fmt:\n\u001b[0;32m    498\u001b[0m         xcell\u001b[39m.\u001b[39mnumber_format \u001b[39m=\u001b[39m fmt\n",
      "File \u001b[1;32mc:\\Users\\dopark41\\AppData\\Local\\Programs\\Python\\Python310\\lib\\site-packages\\openpyxl\\cell\\cell.py:215\u001b[0m, in \u001b[0;36mCell.value\u001b[1;34m(self, value)\u001b[0m\n\u001b[0;32m    212\u001b[0m \u001b[39m@value\u001b[39m\u001b[39m.\u001b[39msetter\n\u001b[0;32m    213\u001b[0m \u001b[39mdef\u001b[39;00m \u001b[39mvalue\u001b[39m(\u001b[39mself\u001b[39m, value):\n\u001b[0;32m    214\u001b[0m     \u001b[39m\"\"\"Set the value and infer type and display options.\"\"\"\u001b[39;00m\n\u001b[1;32m--> 215\u001b[0m     \u001b[39mself\u001b[39;49m\u001b[39m.\u001b[39;49m_bind_value(value)\n",
      "File \u001b[1;32mc:\\Users\\dopark41\\AppData\\Local\\Programs\\Python\\Python310\\lib\\site-packages\\openpyxl\\cell\\cell.py:194\u001b[0m, in \u001b[0;36mCell._bind_value\u001b[1;34m(self, value)\u001b[0m\n\u001b[0;32m    191\u001b[0m         \u001b[39mself\u001b[39m\u001b[39m.\u001b[39mnumber_format \u001b[39m=\u001b[39m get_time_format(t)\n\u001b[0;32m    193\u001b[0m \u001b[39melif\u001b[39;00m dt \u001b[39m==\u001b[39m \u001b[39m\"\u001b[39m\u001b[39ms\u001b[39m\u001b[39m\"\u001b[39m:\n\u001b[1;32m--> 194\u001b[0m     value \u001b[39m=\u001b[39m \u001b[39mself\u001b[39;49m\u001b[39m.\u001b[39;49mcheck_string(value)\n\u001b[0;32m    195\u001b[0m     \u001b[39mif\u001b[39;00m \u001b[39mlen\u001b[39m(value) \u001b[39m>\u001b[39m \u001b[39m1\u001b[39m \u001b[39mand\u001b[39;00m value\u001b[39m.\u001b[39mstartswith(\u001b[39m\"\u001b[39m\u001b[39m=\u001b[39m\u001b[39m\"\u001b[39m):\n\u001b[0;32m    196\u001b[0m         \u001b[39mself\u001b[39m\u001b[39m.\u001b[39mdata_type \u001b[39m=\u001b[39m \u001b[39m'\u001b[39m\u001b[39mf\u001b[39m\u001b[39m'\u001b[39m\n",
      "File \u001b[1;32mc:\\Users\\dopark41\\AppData\\Local\\Programs\\Python\\Python310\\lib\\site-packages\\openpyxl\\cell\\cell.py:162\u001b[0m, in \u001b[0;36mCell.check_string\u001b[1;34m(self, value)\u001b[0m\n\u001b[0;32m    160\u001b[0m value \u001b[39m=\u001b[39m value[:\u001b[39m32767\u001b[39m]\n\u001b[0;32m    161\u001b[0m \u001b[39mif\u001b[39;00m \u001b[39mnext\u001b[39m(ILLEGAL_CHARACTERS_RE\u001b[39m.\u001b[39mfinditer(value), \u001b[39mNone\u001b[39;00m):\n\u001b[1;32m--> 162\u001b[0m     \u001b[39mraise\u001b[39;00m IllegalCharacterError\n\u001b[0;32m    163\u001b[0m \u001b[39mreturn\u001b[39;00m value\n",
      "\u001b[1;31mIllegalCharacterError\u001b[0m: "
     ]
    }
   ],
   "source": [
    "# Excel파일로 저장\n",
    "df.to_excel(f'actual_{current_time}.xlsx')"
   ]
  },
  {
   "cell_type": "markdown",
   "metadata": {},
   "source": []
  }
 ],
 "metadata": {
  "kernelspec": {
   "display_name": "Python 3",
   "language": "python",
   "name": "python3"
  },
  "language_info": {
   "codemirror_mode": {
    "name": "ipython",
    "version": 3
   },
   "file_extension": ".py",
   "mimetype": "text/x-python",
   "name": "python",
   "nbconvert_exporter": "python",
   "pygments_lexer": "ipython3",
   "version": "3.10.7 (tags/v3.10.7:6cc6b13, Sep  5 2022, 14:08:36) [MSC v.1933 64 bit (AMD64)]"
  },
  "orig_nbformat": 4,
  "vscode": {
   "interpreter": {
    "hash": "0645ee286cefe3805bb2353f42ecbd5f5af2a08b2a94216f635a9542705c3b26"
   }
  }
 },
 "nbformat": 4,
 "nbformat_minor": 2
}
