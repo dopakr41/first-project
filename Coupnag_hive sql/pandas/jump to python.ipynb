{
 "cells": [
  {
   "cell_type": "code",
   "execution_count": null,
   "metadata": {},
   "outputs": [],
   "source": []
  }
 ],
 "metadata": {
  "kernelspec": {
   "display_name": "Python 3",
   "language": "python",
   "name": "python3"
  },
  "language_info": {
   "name": "python",
   "version": "3.10.7 (tags/v3.10.7:6cc6b13, Sep  5 2022, 14:08:36) [MSC v.1933 64 bit (AMD64)]"
  },
  "orig_nbformat": 4,
  "vscode": {
   "interpreter": {
    "hash": "0645ee286cefe3805bb2353f42ecbd5f5af2a08b2a94216f635a9542705c3b26"
   }
  }
 },
 "nbformat": 4,
 "nbformat_minor": 2
}
