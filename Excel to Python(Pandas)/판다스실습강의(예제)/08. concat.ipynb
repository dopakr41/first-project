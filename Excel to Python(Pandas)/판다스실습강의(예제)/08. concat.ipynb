{
 "cells": [
  {
   "cell_type": "code",
   "execution_count": 1,
   "metadata": {},
   "outputs": [],
   "source": [
    "import pandas as pd\n",
    "df1 = pd.read_excel(\"E15EXAMPLE.xlsx\")\n",
    "df2 = pd.read_excel(\"E15EXAMPLE.xlsx\", sheet_name=1)\n",
    "df3 = pd.read_excel(\"E15EXAMPLE.xlsx\", sheet_name=2)"
   ]
  },
  {
   "cell_type": "code",
   "execution_count": 4,
   "metadata": {},
   "outputs": [
    {
     "data": {
      "text/html": [
       "<div>\n",
       "<style scoped>\n",
       "    .dataframe tbody tr th:only-of-type {\n",
       "        vertical-align: middle;\n",
       "    }\n",
       "\n",
       "    .dataframe tbody tr th {\n",
       "        vertical-align: top;\n",
       "    }\n",
       "\n",
       "    .dataframe thead th {\n",
       "        text-align: right;\n",
       "    }\n",
       "</style>\n",
       "<table border=\"1\" class=\"dataframe\">\n",
       "  <thead>\n",
       "    <tr style=\"text-align: right;\">\n",
       "      <th></th>\n",
       "      <th>이름</th>\n",
       "      <th>포지션</th>\n",
       "      <th>비고</th>\n",
       "      <th>연차</th>\n",
       "    </tr>\n",
       "  </thead>\n",
       "  <tbody>\n",
       "    <tr>\n",
       "      <th>0</th>\n",
       "      <td>강은탁</td>\n",
       "      <td>투수</td>\n",
       "      <td>우투우타</td>\n",
       "      <td>17</td>\n",
       "    </tr>\n",
       "    <tr>\n",
       "      <th>1</th>\n",
       "      <td>방대한</td>\n",
       "      <td>외야수</td>\n",
       "      <td>좌투좌타</td>\n",
       "      <td>17</td>\n",
       "    </tr>\n",
       "    <tr>\n",
       "      <th>2</th>\n",
       "      <td>김모범</td>\n",
       "      <td>포수</td>\n",
       "      <td>좌투우타</td>\n",
       "      <td>15</td>\n",
       "    </tr>\n",
       "    <tr>\n",
       "      <th>3</th>\n",
       "      <td>김래원</td>\n",
       "      <td>투수</td>\n",
       "      <td>좌투좌타</td>\n",
       "      <td>15</td>\n",
       "    </tr>\n",
       "    <tr>\n",
       "      <th>4</th>\n",
       "      <td>류수영</td>\n",
       "      <td>외야수</td>\n",
       "      <td>우투우타</td>\n",
       "      <td>15</td>\n",
       "    </tr>\n",
       "    <tr>\n",
       "      <th>...</th>\n",
       "      <td>...</td>\n",
       "      <td>...</td>\n",
       "      <td>...</td>\n",
       "      <td>...</td>\n",
       "    </tr>\n",
       "    <tr>\n",
       "      <th>95</th>\n",
       "      <td>구은호</td>\n",
       "      <td>내야수</td>\n",
       "      <td>우투좌타</td>\n",
       "      <td>2</td>\n",
       "    </tr>\n",
       "    <tr>\n",
       "      <th>96</th>\n",
       "      <td>서세원</td>\n",
       "      <td>내야수</td>\n",
       "      <td>우투양타</td>\n",
       "      <td>2</td>\n",
       "    </tr>\n",
       "    <tr>\n",
       "      <th>97</th>\n",
       "      <td>김대현</td>\n",
       "      <td>내야수</td>\n",
       "      <td>좌투좌타</td>\n",
       "      <td>2</td>\n",
       "    </tr>\n",
       "    <tr>\n",
       "      <th>98</th>\n",
       "      <td>박혁권</td>\n",
       "      <td>내야수</td>\n",
       "      <td>우투우타</td>\n",
       "      <td>2</td>\n",
       "    </tr>\n",
       "    <tr>\n",
       "      <th>99</th>\n",
       "      <td>맹재렬</td>\n",
       "      <td>내야수</td>\n",
       "      <td>우투우타</td>\n",
       "      <td>2</td>\n",
       "    </tr>\n",
       "  </tbody>\n",
       "</table>\n",
       "<p>100 rows × 4 columns</p>\n",
       "</div>"
      ],
      "text/plain": [
       "     이름  포지션    비고  연차\n",
       "0   강은탁   투수  우투우타  17\n",
       "1   방대한  외야수  좌투좌타  17\n",
       "2   김모범   포수  좌투우타  15\n",
       "3   김래원   투수  좌투좌타  15\n",
       "4   류수영  외야수  우투우타  15\n",
       "..  ...  ...   ...  ..\n",
       "95  구은호  내야수  우투좌타   2\n",
       "96  서세원  내야수  우투양타   2\n",
       "97  김대현  내야수  좌투좌타   2\n",
       "98  박혁권  내야수  우투우타   2\n",
       "99  맹재렬  내야수  우투우타   2\n",
       "\n",
       "[100 rows x 4 columns]"
      ]
     },
     "execution_count": 4,
     "metadata": {},
     "output_type": "execute_result"
    }
   ],
   "source": [
    "df1[\"연차\"] = df1[\"연차\"] + 1\n",
    "df1"
   ]
  },
  {
   "cell_type": "code",
   "execution_count": 11,
   "metadata": {},
   "outputs": [],
   "source": [
    "cond1 = df1[\"이름\"].isin(df3[\"이름\"])\n",
    "df1 = df1.loc[~cond1]"
   ]
  },
  {
   "cell_type": "code",
   "execution_count": 14,
   "metadata": {},
   "outputs": [],
   "source": [
    "cond2 = df2[\"지명팀\"] == \"롯데\"\n",
    "df2 = df2.loc[cond2]"
   ]
  },
  {
   "cell_type": "code",
   "execution_count": 19,
   "metadata": {},
   "outputs": [],
   "source": [
    "pd.concat([df1,df2.reindex(columns=df1.columns, fill_value=1)]).to_clipboard(index=False)"
   ]
  },
  {
   "cell_type": "code",
   "execution_count": null,
   "metadata": {},
   "outputs": [],
   "source": [
    "# 전체코드\n",
    "import pandas as pd\n",
    "df1 = pd.read_excel(\"E15EXAMPLE.xlsx\")\n",
    "df2 = pd.read_excel(\"E15EXAMPLE.xlsx\", sheet_name=1)\n",
    "df3 = pd.read_excel(\"E15EXAMPLE.xlsx\", sheet_name=2)\n",
    "\n",
    "#작년명부에서 연차를 전부 1씩 더해주기\n",
    "df1[\"연차\"] = df1[\"연차\"] + 1\n",
    "\n",
    "#은퇴명부(df3)에 속한 은퇴선수데이터를 df1에서 삭제\n",
    "cond1 = df1[\"이름\"].isin(df3[\"이름\"])\n",
    "df1 = df1.loc[~cond1]\n",
    "\n",
    "#신인지명일람(df2)에서 롯데선수만 필터링\n",
    "cond2 = df2[\"지명팀\"] == \"롯데\"\n",
    "df2 = df2.loc[cond2]\n",
    "\n",
    "# df1과 df2를 df1의 형식으로 합치기\n",
    "df3 = pd.concat([df1, df2.reindex(columns=df1.columns, fill_value=1)])\n",
    "df3.to_clipboard(index=False)"
   ]
  }
 ],
 "metadata": {
  "kernelspec": {
   "display_name": "Python 3",
   "language": "python",
   "name": "python3"
  },
  "language_info": {
   "codemirror_mode": {
    "name": "ipython",
    "version": 3
   },
   "file_extension": ".py",
   "mimetype": "text/x-python",
   "name": "python",
   "nbconvert_exporter": "python",
   "pygments_lexer": "ipython3",
   "version": "3.10.7"
  },
  "orig_nbformat": 4,
  "vscode": {
   "interpreter": {
    "hash": "0645ee286cefe3805bb2353f42ecbd5f5af2a08b2a94216f635a9542705c3b26"
   }
  }
 },
 "nbformat": 4,
 "nbformat_minor": 2
}
