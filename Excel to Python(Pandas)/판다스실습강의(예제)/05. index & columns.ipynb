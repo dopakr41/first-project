{
 "cells": [
  {
   "cell_type": "code",
   "execution_count": 1,
   "id": "56c2a21a",
   "metadata": {},
   "outputs": [],
   "source": [
    "import pandas as pd"
   ]
  },
  {
   "cell_type": "code",
   "execution_count": 2,
   "id": "9e651397",
   "metadata": {},
   "outputs": [
    {
     "data": {
      "text/html": [
       "<div>\n",
       "<style scoped>\n",
       "    .dataframe tbody tr th:only-of-type {\n",
       "        vertical-align: middle;\n",
       "    }\n",
       "\n",
       "    .dataframe tbody tr th {\n",
       "        vertical-align: top;\n",
       "    }\n",
       "\n",
       "    .dataframe thead th {\n",
       "        text-align: right;\n",
       "    }\n",
       "</style>\n",
       "<table border=\"1\" class=\"dataframe\">\n",
       "  <thead>\n",
       "    <tr style=\"text-align: right;\">\n",
       "      <th></th>\n",
       "      <th>제품</th>\n",
       "      <th>수량</th>\n",
       "    </tr>\n",
       "  </thead>\n",
       "  <tbody>\n",
       "    <tr>\n",
       "      <th>0</th>\n",
       "      <td>아몬드쿠키 (150g)</td>\n",
       "      <td>40</td>\n",
       "    </tr>\n",
       "    <tr>\n",
       "      <th>1</th>\n",
       "      <td>새우육젓 (200g)</td>\n",
       "      <td>200</td>\n",
       "    </tr>\n",
       "    <tr>\n",
       "      <th>2</th>\n",
       "      <td>개암염 (250g)</td>\n",
       "      <td>70</td>\n",
       "    </tr>\n",
       "    <tr>\n",
       "      <th>3</th>\n",
       "      <td>신안천일염 (5kg)</td>\n",
       "      <td>140</td>\n",
       "    </tr>\n",
       "  </tbody>\n",
       "</table>\n",
       "</div>"
      ],
      "text/plain": [
       "             제품   수량\n",
       "0  아몬드쿠키 (150g)   40\n",
       "1   새우육젓 (200g)  200\n",
       "2    개암염 (250g)   70\n",
       "3   신안천일염 (5kg)  140"
      ]
     },
     "execution_count": 2,
     "metadata": {},
     "output_type": "execute_result"
    }
   ],
   "source": [
    "df1 = pd.read_excel(\"E13EXAMPLE.xlsx\", sheet_name=1)\n",
    "df2 = pd.read_excel(\"E13EXAMPLE.xlsx\", sheet_name=2)\n",
    "df1.head(4)"
   ]
  },
  {
   "cell_type": "markdown",
   "id": "9482b79d",
   "metadata": {},
   "source": [
    "df.set_index(값, drop=bool, append=bool, inplace=bool)  \n",
    "df.sub(df2, axis=축, fill_value=값)"
   ]
  },
  {
   "cell_type": "code",
   "execution_count": 4,
   "id": "6eb1b816",
   "metadata": {},
   "outputs": [],
   "source": [
    "df1 = df1.set_index(\"제품\")\n",
    "df2 = df2.set_index(\"제품\")"
   ]
  },
  {
   "cell_type": "code",
   "execution_count": 7,
   "id": "f480a708",
   "metadata": {},
   "outputs": [],
   "source": [
    "df3 = df2.sub(df1, fill_value=0)\n",
    "df3.loc[df3[\"수량\"] != 0].to_clipboard()"
   ]
  },
  {
   "cell_type": "markdown",
   "id": "d6e581f9",
   "metadata": {},
   "source": [
    "# 전체코드"
   ]
  },
  {
   "cell_type": "code",
   "execution_count": null,
   "id": "8aa15671",
   "metadata": {},
   "outputs": [],
   "source": [
    "import pandas as pd\n",
    "df1 = pd.read_excel(\"E13EXAMPLE.xlsx\", sheet_name=1).set_index(\"제품\")\n",
    "df2 = pd.read_excel(\"E13EXAMPLE.xlsx\", sheet_name=2).set_index(\"제품\")\n",
    "df3 = df2.sub(df1, fill_value=0)\n",
    "df3.loc[df3[\"수량\"] != 0 ].to_clipboard()"
   ]
  }
 ],
 "metadata": {
  "kernelspec": {
   "display_name": "Python 3 (ipykernel)",
   "language": "python",
   "name": "python3"
  },
  "language_info": {
   "codemirror_mode": {
    "name": "ipython",
    "version": 3
   },
   "file_extension": ".py",
   "mimetype": "text/x-python",
   "name": "python",
   "nbconvert_exporter": "python",
   "pygments_lexer": "ipython3",
   "version": "3.9.12"
  }
 },
 "nbformat": 4,
 "nbformat_minor": 5
}
