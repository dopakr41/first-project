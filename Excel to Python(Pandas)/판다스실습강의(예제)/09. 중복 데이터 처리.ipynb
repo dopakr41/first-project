{
 "cells": [
  {
   "cell_type": "code",
   "execution_count": 5,
   "metadata": {},
   "outputs": [],
   "source": [
    "import pandas as pd\n",
    "df1 = pd.read_excel(\"E17EXAMPLE.xlsx\")\n",
    "df2 = pd.read_excel(\"E17EXAMPLE.xlsx\", sheet_name=1)\n",
    "df3 = pd.read_excel(\"E17EXAMPLE.xlsx\", sheet_name=2)"
   ]
  },
  {
   "cell_type": "code",
   "execution_count": 8,
   "metadata": {},
   "outputs": [],
   "source": [
    "df4 = pd.concat([df1, df2, df3])"
   ]
  },
  {
   "cell_type": "code",
   "execution_count": 10,
   "metadata": {},
   "outputs": [
    {
     "data": {
      "text/plain": [
       "42"
      ]
     },
     "execution_count": 10,
     "metadata": {},
     "output_type": "execute_result"
    }
   ],
   "source": [
    "df4.duplicated().sum()"
   ]
  },
  {
   "cell_type": "code",
   "execution_count": 13,
   "metadata": {},
   "outputs": [],
   "source": [
    "df4.drop_duplicates().sort_values(\"분류\").to_clipboard(index=False)"
   ]
  },
  {
   "cell_type": "code",
   "execution_count": null,
   "metadata": {},
   "outputs": [],
   "source": [
    "import pandas as pd\n",
    "\n",
    "# 엑셀의 시트 3개를 불러와서 변수지정\n",
    "df1 = pd.read_excel(\"E17EXAMPLE.xlsx\")\n",
    "df2 = pd.read_excel(\"E17EXAMPLE.xlsx\", sheet_name=1)\n",
    "df3 = pd.read_excel(\"E17EXAMPLE.xlsx\", sheet_name=2)\n",
    "\n",
    "df4 = pd.concat([df1, df2, df3]) # 세개의 시트를 합치고\n",
    "df4.duplicated().sum() # sum을 하면 중복인 개수를 알수있다\n",
    "df4 = df4.drop_duplicates() # 중복값을 drop\n",
    "df4.to_clipboard(index=False) # 클립보드에 복사"
   ]
  }
 ],
 "metadata": {
  "kernelspec": {
   "display_name": "Python 3",
   "language": "python",
   "name": "python3"
  },
  "language_info": {
   "codemirror_mode": {
    "name": "ipython",
    "version": 3
   },
   "file_extension": ".py",
   "mimetype": "text/x-python",
   "name": "python",
   "nbconvert_exporter": "python",
   "pygments_lexer": "ipython3",
   "version": "3.10.7"
  },
  "orig_nbformat": 4,
  "vscode": {
   "interpreter": {
    "hash": "0645ee286cefe3805bb2353f42ecbd5f5af2a08b2a94216f635a9542705c3b26"
   }
  }
 },
 "nbformat": 4,
 "nbformat_minor": 2
}
