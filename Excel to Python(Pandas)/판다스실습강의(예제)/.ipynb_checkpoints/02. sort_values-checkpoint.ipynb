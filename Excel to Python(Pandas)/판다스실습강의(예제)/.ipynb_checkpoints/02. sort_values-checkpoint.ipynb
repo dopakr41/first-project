{
 "cells": [
  {
   "cell_type": "code",
   "execution_count": 1,
   "id": "0bc265b4",
   "metadata": {},
   "outputs": [],
   "source": [
    "import pandas as pd"
   ]
  },
  {
   "cell_type": "code",
   "execution_count": 2,
   "id": "8927d432",
   "metadata": {},
   "outputs": [
    {
     "data": {
      "text/html": [
       "<div>\n",
       "<style scoped>\n",
       "    .dataframe tbody tr th:only-of-type {\n",
       "        vertical-align: middle;\n",
       "    }\n",
       "\n",
       "    .dataframe tbody tr th {\n",
       "        vertical-align: top;\n",
       "    }\n",
       "\n",
       "    .dataframe thead th {\n",
       "        text-align: right;\n",
       "    }\n",
       "</style>\n",
       "<table border=\"1\" class=\"dataframe\">\n",
       "  <thead>\n",
       "    <tr style=\"text-align: right;\">\n",
       "      <th></th>\n",
       "      <th>이름</th>\n",
       "      <th>점수</th>\n",
       "      <th>나이</th>\n",
       "    </tr>\n",
       "  </thead>\n",
       "  <tbody>\n",
       "    <tr>\n",
       "      <th>0</th>\n",
       "      <td>문학진</td>\n",
       "      <td>100</td>\n",
       "      <td>26.1</td>\n",
       "    </tr>\n",
       "    <tr>\n",
       "      <th>1</th>\n",
       "      <td>김도현</td>\n",
       "      <td>100</td>\n",
       "      <td>61.4</td>\n",
       "    </tr>\n",
       "    <tr>\n",
       "      <th>2</th>\n",
       "      <td>배호근</td>\n",
       "      <td>89</td>\n",
       "      <td>62.5</td>\n",
       "    </tr>\n",
       "  </tbody>\n",
       "</table>\n",
       "</div>"
      ],
      "text/plain": [
       "    이름   점수    나이\n",
       "0  문학진  100  26.1\n",
       "1  김도현  100  61.4\n",
       "2  배호근   89  62.5"
      ]
     },
     "execution_count": 2,
     "metadata": {},
     "output_type": "execute_result"
    }
   ],
   "source": [
    "df1 = pd.read_excel(\"E10EXAMPLE.xlsx\")\n",
    "df1.head(3)"
   ]
  },
  {
   "cell_type": "code",
   "execution_count": 12,
   "id": "1a4860e1",
   "metadata": {},
   "outputs": [],
   "source": [
    "df1[\"정렬\"] = df1[\"나이\"].mask(df1[\"나이\"]<60, 0)\n",
    "df1 = df1.sort_values([\"점수\", \"정렬\", \"나이\"], ascending=[0,0,1])\n",
    "df1.drop(\"정렬\", axis=1).to_clipboard(index=False)"
   ]
  },
  {
   "cell_type": "markdown",
   "id": "3704feb2",
   "metadata": {},
   "source": [
    "# 전체코드"
   ]
  },
  {
   "cell_type": "code",
   "execution_count": 13,
   "id": "894e881c",
   "metadata": {},
   "outputs": [],
   "source": [
    "import pandas as pd\n",
    "\n",
    "df1 = pd.read_excel(\"E10EXAMPLE.xlsx\")\n",
    "df1[\"정렬\"] = df1[\"나이\"].mask(df1[\"나이\"]<60, 0)\n",
    "df1 = df1.sort_values([\"점수\", \"정렬\", \"나이\"], ascending=[0,0,1])\n",
    "df1.drop(\"정렬\", axis=1).to_clipboard(index=False)"
   ]
  }
 ],
 "metadata": {
  "kernelspec": {
   "display_name": "Python 3 (ipykernel)",
   "language": "python",
   "name": "python3"
  },
  "language_info": {
   "codemirror_mode": {
    "name": "ipython",
    "version": 3
   },
   "file_extension": ".py",
   "mimetype": "text/x-python",
   "name": "python",
   "nbconvert_exporter": "python",
   "pygments_lexer": "ipython3",
   "version": "3.9.12"
  }
 },
 "nbformat": 4,
 "nbformat_minor": 5
}
