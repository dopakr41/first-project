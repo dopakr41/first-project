{
 "cells": [
  {
   "cell_type": "code",
   "execution_count": 1,
   "id": "cbb7e490",
   "metadata": {},
   "outputs": [],
   "source": [
    "import pandas as pd\n",
    "import numpy as np\n",
    "a1 = [60, 84, 80, 70, \"문예부\"]\n",
    "a2 = [77, 62, 95, 85, \"과학부\"]\n",
    "a3 = [61, 97, 72, np.nan, \"농구부\"]\n",
    "a4 = [75, 65, 95, np.nan, \"다도부\"]\n",
    "cols = [\"국어\", \"영어\", \"수학\", \"과학\", \"소속\"]\n",
    "b1 = [\"문예부\", \"과학부\", \"다도부\"]\n",
    "df = pd.DataFrame([a1, a2, a3, a4], index=list(\"ABCD\"), columns=cols)"
   ]
  },
  {
   "cell_type": "code",
   "execution_count": 2,
   "id": "eb37b2d3",
   "metadata": {
    "scrolled": true
   },
   "outputs": [
    {
     "data": {
      "text/html": [
       "<div>\n",
       "<style scoped>\n",
       "    .dataframe tbody tr th:only-of-type {\n",
       "        vertical-align: middle;\n",
       "    }\n",
       "\n",
       "    .dataframe tbody tr th {\n",
       "        vertical-align: top;\n",
       "    }\n",
       "\n",
       "    .dataframe thead th {\n",
       "        text-align: right;\n",
       "    }\n",
       "</style>\n",
       "<table border=\"1\" class=\"dataframe\">\n",
       "  <thead>\n",
       "    <tr style=\"text-align: right;\">\n",
       "      <th></th>\n",
       "      <th>국어</th>\n",
       "      <th>영어</th>\n",
       "      <th>수학</th>\n",
       "      <th>과학</th>\n",
       "      <th>소속</th>\n",
       "    </tr>\n",
       "  </thead>\n",
       "  <tbody>\n",
       "    <tr>\n",
       "      <th>A</th>\n",
       "      <td>60</td>\n",
       "      <td>84</td>\n",
       "      <td>80</td>\n",
       "      <td>70.0</td>\n",
       "      <td>문예부</td>\n",
       "    </tr>\n",
       "    <tr>\n",
       "      <th>B</th>\n",
       "      <td>77</td>\n",
       "      <td>62</td>\n",
       "      <td>95</td>\n",
       "      <td>85.0</td>\n",
       "      <td>과학부</td>\n",
       "    </tr>\n",
       "    <tr>\n",
       "      <th>C</th>\n",
       "      <td>61</td>\n",
       "      <td>97</td>\n",
       "      <td>72</td>\n",
       "      <td>NaN</td>\n",
       "      <td>농구부</td>\n",
       "    </tr>\n",
       "    <tr>\n",
       "      <th>D</th>\n",
       "      <td>75</td>\n",
       "      <td>65</td>\n",
       "      <td>95</td>\n",
       "      <td>NaN</td>\n",
       "      <td>다도부</td>\n",
       "    </tr>\n",
       "  </tbody>\n",
       "</table>\n",
       "</div>"
      ],
      "text/plain": [
       "   국어  영어  수학    과학   소속\n",
       "A  60  84  80  70.0  문예부\n",
       "B  77  62  95  85.0  과학부\n",
       "C  61  97  72   NaN  농구부\n",
       "D  75  65  95   NaN  다도부"
      ]
     },
     "execution_count": 2,
     "metadata": {},
     "output_type": "execute_result"
    }
   ],
   "source": [
    "df"
   ]
  },
  {
   "cell_type": "code",
   "execution_count": 4,
   "id": "d1f9ee06",
   "metadata": {},
   "outputs": [
    {
     "data": {
      "text/html": [
       "<div>\n",
       "<style scoped>\n",
       "    .dataframe tbody tr th:only-of-type {\n",
       "        vertical-align: middle;\n",
       "    }\n",
       "\n",
       "    .dataframe tbody tr th {\n",
       "        vertical-align: top;\n",
       "    }\n",
       "\n",
       "    .dataframe thead th {\n",
       "        text-align: right;\n",
       "    }\n",
       "</style>\n",
       "<table border=\"1\" class=\"dataframe\">\n",
       "  <thead>\n",
       "    <tr style=\"text-align: right;\">\n",
       "      <th></th>\n",
       "      <th>국어</th>\n",
       "      <th>영어</th>\n",
       "      <th>수학</th>\n",
       "      <th>과학</th>\n",
       "      <th>소속</th>\n",
       "    </tr>\n",
       "  </thead>\n",
       "  <tbody>\n",
       "    <tr>\n",
       "      <th>B</th>\n",
       "      <td>77</td>\n",
       "      <td>62</td>\n",
       "      <td>95</td>\n",
       "      <td>85.0</td>\n",
       "      <td>과학부</td>\n",
       "    </tr>\n",
       "    <tr>\n",
       "      <th>D</th>\n",
       "      <td>75</td>\n",
       "      <td>65</td>\n",
       "      <td>95</td>\n",
       "      <td>NaN</td>\n",
       "      <td>다도부</td>\n",
       "    </tr>\n",
       "  </tbody>\n",
       "</table>\n",
       "</div>"
      ],
      "text/plain": [
       "   국어  영어  수학    과학   소속\n",
       "B  77  62  95  85.0  과학부\n",
       "D  75  65  95   NaN  다도부"
      ]
     },
     "execution_count": 4,
     "metadata": {},
     "output_type": "execute_result"
    }
   ],
   "source": [
    "s1 = [\"B\", \"D\"]\n",
    "df.loc[s1]"
   ]
  },
  {
   "cell_type": "code",
   "execution_count": 12,
   "id": "95cb382d",
   "metadata": {
    "scrolled": true
   },
   "outputs": [
    {
     "data": {
      "text/html": [
       "<div>\n",
       "<style scoped>\n",
       "    .dataframe tbody tr th:only-of-type {\n",
       "        vertical-align: middle;\n",
       "    }\n",
       "\n",
       "    .dataframe tbody tr th {\n",
       "        vertical-align: top;\n",
       "    }\n",
       "\n",
       "    .dataframe thead th {\n",
       "        text-align: right;\n",
       "    }\n",
       "</style>\n",
       "<table border=\"1\" class=\"dataframe\">\n",
       "  <thead>\n",
       "    <tr style=\"text-align: right;\">\n",
       "      <th></th>\n",
       "      <th>영어</th>\n",
       "      <th>과학</th>\n",
       "      <th>소속</th>\n",
       "    </tr>\n",
       "  </thead>\n",
       "  <tbody>\n",
       "    <tr>\n",
       "      <th>A</th>\n",
       "      <td>84</td>\n",
       "      <td>70.0</td>\n",
       "      <td>문예부</td>\n",
       "    </tr>\n",
       "    <tr>\n",
       "      <th>B</th>\n",
       "      <td>62</td>\n",
       "      <td>85.0</td>\n",
       "      <td>과학부</td>\n",
       "    </tr>\n",
       "    <tr>\n",
       "      <th>C</th>\n",
       "      <td>97</td>\n",
       "      <td>NaN</td>\n",
       "      <td>농구부</td>\n",
       "    </tr>\n",
       "    <tr>\n",
       "      <th>D</th>\n",
       "      <td>65</td>\n",
       "      <td>NaN</td>\n",
       "      <td>다도부</td>\n",
       "    </tr>\n",
       "  </tbody>\n",
       "</table>\n",
       "</div>"
      ],
      "text/plain": [
       "   영어    과학   소속\n",
       "A  84  70.0  문예부\n",
       "B  62  85.0  과학부\n",
       "C  97   NaN  농구부\n",
       "D  65   NaN  다도부"
      ]
     },
     "execution_count": 12,
     "metadata": {},
     "output_type": "execute_result"
    }
   ],
   "source": [
    "s1 = [False, True, False, True, True]\n",
    "df.loc[:, s1]"
   ]
  },
  {
   "cell_type": "code",
   "execution_count": 13,
   "id": "7ab2b3db",
   "metadata": {
    "scrolled": true
   },
   "outputs": [
    {
     "data": {
      "text/plain": [
       "A    False\n",
       "B     True\n",
       "C    False\n",
       "D     True\n",
       "Name: 수학, dtype: bool"
      ]
     },
     "execution_count": 13,
     "metadata": {},
     "output_type": "execute_result"
    }
   ],
   "source": [
    "df[\"수학\"] > 90"
   ]
  },
  {
   "cell_type": "code",
   "execution_count": 14,
   "id": "c13c68d4",
   "metadata": {},
   "outputs": [
    {
     "data": {
      "text/html": [
       "<div>\n",
       "<style scoped>\n",
       "    .dataframe tbody tr th:only-of-type {\n",
       "        vertical-align: middle;\n",
       "    }\n",
       "\n",
       "    .dataframe tbody tr th {\n",
       "        vertical-align: top;\n",
       "    }\n",
       "\n",
       "    .dataframe thead th {\n",
       "        text-align: right;\n",
       "    }\n",
       "</style>\n",
       "<table border=\"1\" class=\"dataframe\">\n",
       "  <thead>\n",
       "    <tr style=\"text-align: right;\">\n",
       "      <th></th>\n",
       "      <th>국어</th>\n",
       "      <th>영어</th>\n",
       "      <th>수학</th>\n",
       "      <th>과학</th>\n",
       "      <th>소속</th>\n",
       "    </tr>\n",
       "  </thead>\n",
       "  <tbody>\n",
       "    <tr>\n",
       "      <th>A</th>\n",
       "      <td>60</td>\n",
       "      <td>84</td>\n",
       "      <td>80</td>\n",
       "      <td>70.0</td>\n",
       "      <td>문예부</td>\n",
       "    </tr>\n",
       "    <tr>\n",
       "      <th>B</th>\n",
       "      <td>77</td>\n",
       "      <td>62</td>\n",
       "      <td>95</td>\n",
       "      <td>85.0</td>\n",
       "      <td>과학부</td>\n",
       "    </tr>\n",
       "    <tr>\n",
       "      <th>C</th>\n",
       "      <td>61</td>\n",
       "      <td>97</td>\n",
       "      <td>72</td>\n",
       "      <td>NaN</td>\n",
       "      <td>농구부</td>\n",
       "    </tr>\n",
       "    <tr>\n",
       "      <th>D</th>\n",
       "      <td>75</td>\n",
       "      <td>65</td>\n",
       "      <td>95</td>\n",
       "      <td>NaN</td>\n",
       "      <td>다도부</td>\n",
       "    </tr>\n",
       "  </tbody>\n",
       "</table>\n",
       "</div>"
      ],
      "text/plain": [
       "   국어  영어  수학    과학   소속\n",
       "A  60  84  80  70.0  문예부\n",
       "B  77  62  95  85.0  과학부\n",
       "C  61  97  72   NaN  농구부\n",
       "D  75  65  95   NaN  다도부"
      ]
     },
     "execution_count": 14,
     "metadata": {},
     "output_type": "execute_result"
    }
   ],
   "source": [
    "df"
   ]
  },
  {
   "cell_type": "code",
   "execution_count": 18,
   "id": "8859371f",
   "metadata": {},
   "outputs": [
    {
     "data": {
      "text/html": [
       "<div>\n",
       "<style scoped>\n",
       "    .dataframe tbody tr th:only-of-type {\n",
       "        vertical-align: middle;\n",
       "    }\n",
       "\n",
       "    .dataframe tbody tr th {\n",
       "        vertical-align: top;\n",
       "    }\n",
       "\n",
       "    .dataframe thead th {\n",
       "        text-align: right;\n",
       "    }\n",
       "</style>\n",
       "<table border=\"1\" class=\"dataframe\">\n",
       "  <thead>\n",
       "    <tr style=\"text-align: right;\">\n",
       "      <th></th>\n",
       "      <th>국어</th>\n",
       "      <th>영어</th>\n",
       "      <th>수학</th>\n",
       "      <th>과학</th>\n",
       "    </tr>\n",
       "  </thead>\n",
       "  <tbody>\n",
       "    <tr>\n",
       "      <th>A</th>\n",
       "      <td>60</td>\n",
       "      <td>84</td>\n",
       "      <td>80</td>\n",
       "      <td>70.0</td>\n",
       "    </tr>\n",
       "    <tr>\n",
       "      <th>C</th>\n",
       "      <td>61</td>\n",
       "      <td>97</td>\n",
       "      <td>72</td>\n",
       "      <td>NaN</td>\n",
       "    </tr>\n",
       "  </tbody>\n",
       "</table>\n",
       "</div>"
      ],
      "text/plain": [
       "   국어  영어  수학    과학\n",
       "A  60  84  80  70.0\n",
       "C  61  97  72   NaN"
      ]
     },
     "execution_count": 18,
     "metadata": {},
     "output_type": "execute_result"
    }
   ],
   "source": [
    "df.loc[df[\"영어\"] > 80, \"국어\":\"과학\"]"
   ]
  },
  {
   "cell_type": "code",
   "execution_count": 19,
   "id": "88647dea",
   "metadata": {},
   "outputs": [
    {
     "data": {
      "text/html": [
       "<div>\n",
       "<style scoped>\n",
       "    .dataframe tbody tr th:only-of-type {\n",
       "        vertical-align: middle;\n",
       "    }\n",
       "\n",
       "    .dataframe tbody tr th {\n",
       "        vertical-align: top;\n",
       "    }\n",
       "\n",
       "    .dataframe thead th {\n",
       "        text-align: right;\n",
       "    }\n",
       "</style>\n",
       "<table border=\"1\" class=\"dataframe\">\n",
       "  <thead>\n",
       "    <tr style=\"text-align: right;\">\n",
       "      <th></th>\n",
       "      <th>국어</th>\n",
       "      <th>영어</th>\n",
       "      <th>수학</th>\n",
       "      <th>과학</th>\n",
       "    </tr>\n",
       "  </thead>\n",
       "  <tbody>\n",
       "    <tr>\n",
       "      <th>A</th>\n",
       "      <td>60</td>\n",
       "      <td>84</td>\n",
       "      <td>80</td>\n",
       "      <td>70.0</td>\n",
       "    </tr>\n",
       "    <tr>\n",
       "      <th>C</th>\n",
       "      <td>61</td>\n",
       "      <td>97</td>\n",
       "      <td>72</td>\n",
       "      <td>NaN</td>\n",
       "    </tr>\n",
       "  </tbody>\n",
       "</table>\n",
       "</div>"
      ],
      "text/plain": [
       "   국어  영어  수학    과학\n",
       "A  60  84  80  70.0\n",
       "C  61  97  72   NaN"
      ]
     },
     "execution_count": 19,
     "metadata": {},
     "output_type": "execute_result"
    }
   ],
   "source": [
    "cond1 = df[\"영어\"] > 80  # 변수로 지정하는 연습을 해야함\n",
    "df.loc[cond1, \"국어\":\"과학\"]"
   ]
  },
  {
   "cell_type": "code",
   "execution_count": 24,
   "id": "683b0d26",
   "metadata": {},
   "outputs": [
    {
     "data": {
      "text/html": [
       "<div>\n",
       "<style scoped>\n",
       "    .dataframe tbody tr th:only-of-type {\n",
       "        vertical-align: middle;\n",
       "    }\n",
       "\n",
       "    .dataframe tbody tr th {\n",
       "        vertical-align: top;\n",
       "    }\n",
       "\n",
       "    .dataframe thead th {\n",
       "        text-align: right;\n",
       "    }\n",
       "</style>\n",
       "<table border=\"1\" class=\"dataframe\">\n",
       "  <thead>\n",
       "    <tr style=\"text-align: right;\">\n",
       "      <th></th>\n",
       "      <th>국어</th>\n",
       "      <th>영어</th>\n",
       "      <th>수학</th>\n",
       "      <th>과학</th>\n",
       "      <th>소속</th>\n",
       "    </tr>\n",
       "  </thead>\n",
       "  <tbody>\n",
       "    <tr>\n",
       "      <th>B</th>\n",
       "      <td>77</td>\n",
       "      <td>62</td>\n",
       "      <td>95</td>\n",
       "      <td>85.0</td>\n",
       "      <td>과학부</td>\n",
       "    </tr>\n",
       "    <tr>\n",
       "      <th>D</th>\n",
       "      <td>75</td>\n",
       "      <td>65</td>\n",
       "      <td>95</td>\n",
       "      <td>NaN</td>\n",
       "      <td>다도부</td>\n",
       "    </tr>\n",
       "  </tbody>\n",
       "</table>\n",
       "</div>"
      ],
      "text/plain": [
       "   국어  영어  수학    과학   소속\n",
       "B  77  62  95  85.0  과학부\n",
       "D  75  65  95   NaN  다도부"
      ]
     },
     "execution_count": 24,
     "metadata": {},
     "output_type": "execute_result"
    }
   ],
   "source": [
    "cond1 = df[\"국어\"] > 60\n",
    "cond2 = df[\"수학\"] > 75\n",
    "df.loc[cond1 & cond2]"
   ]
  },
  {
   "cell_type": "markdown",
   "id": "f4cb6ac1",
   "metadata": {},
   "source": [
    "- isnell: NaN이면 True로 아니면 False로 반환하는 함수"
   ]
  },
  {
   "cell_type": "code",
   "execution_count": 25,
   "id": "a3ac7aa7",
   "metadata": {},
   "outputs": [
    {
     "data": {
      "text/plain": [
       "A    False\n",
       "B    False\n",
       "C     True\n",
       "D     True\n",
       "Name: 과학, dtype: bool"
      ]
     },
     "execution_count": 25,
     "metadata": {},
     "output_type": "execute_result"
    }
   ],
   "source": [
    "df[\"과학\"].isnull()"
   ]
  },
  {
   "cell_type": "code",
   "execution_count": 26,
   "id": "e4a07b55",
   "metadata": {
    "scrolled": true
   },
   "outputs": [
    {
     "data": {
      "text/html": [
       "<div>\n",
       "<style scoped>\n",
       "    .dataframe tbody tr th:only-of-type {\n",
       "        vertical-align: middle;\n",
       "    }\n",
       "\n",
       "    .dataframe tbody tr th {\n",
       "        vertical-align: top;\n",
       "    }\n",
       "\n",
       "    .dataframe thead th {\n",
       "        text-align: right;\n",
       "    }\n",
       "</style>\n",
       "<table border=\"1\" class=\"dataframe\">\n",
       "  <thead>\n",
       "    <tr style=\"text-align: right;\">\n",
       "      <th></th>\n",
       "      <th>국어</th>\n",
       "      <th>영어</th>\n",
       "      <th>수학</th>\n",
       "      <th>과학</th>\n",
       "      <th>소속</th>\n",
       "    </tr>\n",
       "  </thead>\n",
       "  <tbody>\n",
       "    <tr>\n",
       "      <th>C</th>\n",
       "      <td>61</td>\n",
       "      <td>97</td>\n",
       "      <td>72</td>\n",
       "      <td>NaN</td>\n",
       "      <td>농구부</td>\n",
       "    </tr>\n",
       "    <tr>\n",
       "      <th>D</th>\n",
       "      <td>75</td>\n",
       "      <td>65</td>\n",
       "      <td>95</td>\n",
       "      <td>NaN</td>\n",
       "      <td>다도부</td>\n",
       "    </tr>\n",
       "  </tbody>\n",
       "</table>\n",
       "</div>"
      ],
      "text/plain": [
       "   국어  영어  수학  과학   소속\n",
       "C  61  97  72 NaN  농구부\n",
       "D  75  65  95 NaN  다도부"
      ]
     },
     "execution_count": 26,
     "metadata": {},
     "output_type": "execute_result"
    }
   ],
   "source": [
    "df.loc[df[\"과학\"].isnull()]"
   ]
  },
  {
   "cell_type": "code",
   "execution_count": 27,
   "id": "82f88be5",
   "metadata": {
    "scrolled": true
   },
   "outputs": [
    {
     "data": {
      "text/html": [
       "<div>\n",
       "<style scoped>\n",
       "    .dataframe tbody tr th:only-of-type {\n",
       "        vertical-align: middle;\n",
       "    }\n",
       "\n",
       "    .dataframe tbody tr th {\n",
       "        vertical-align: top;\n",
       "    }\n",
       "\n",
       "    .dataframe thead th {\n",
       "        text-align: right;\n",
       "    }\n",
       "</style>\n",
       "<table border=\"1\" class=\"dataframe\">\n",
       "  <thead>\n",
       "    <tr style=\"text-align: right;\">\n",
       "      <th></th>\n",
       "      <th>국어</th>\n",
       "      <th>영어</th>\n",
       "      <th>수학</th>\n",
       "      <th>과학</th>\n",
       "      <th>소속</th>\n",
       "    </tr>\n",
       "  </thead>\n",
       "  <tbody>\n",
       "    <tr>\n",
       "      <th>A</th>\n",
       "      <td>60</td>\n",
       "      <td>84</td>\n",
       "      <td>80</td>\n",
       "      <td>70.0</td>\n",
       "      <td>문예부</td>\n",
       "    </tr>\n",
       "    <tr>\n",
       "      <th>B</th>\n",
       "      <td>77</td>\n",
       "      <td>62</td>\n",
       "      <td>95</td>\n",
       "      <td>85.0</td>\n",
       "      <td>과학부</td>\n",
       "    </tr>\n",
       "  </tbody>\n",
       "</table>\n",
       "</div>"
      ],
      "text/plain": [
       "   국어  영어  수학    과학   소속\n",
       "A  60  84  80  70.0  문예부\n",
       "B  77  62  95  85.0  과학부"
      ]
     },
     "execution_count": 27,
     "metadata": {},
     "output_type": "execute_result"
    }
   ],
   "source": [
    "df.loc[~df[\"과학\"].isnull()] # ~ isnull의 반대 (NaN이 아닌 데이터만 추출)"
   ]
  },
  {
   "cell_type": "code",
   "execution_count": 32,
   "id": "1289126b",
   "metadata": {
    "scrolled": true
   },
   "outputs": [
    {
     "data": {
      "text/html": [
       "<div>\n",
       "<style scoped>\n",
       "    .dataframe tbody tr th:only-of-type {\n",
       "        vertical-align: middle;\n",
       "    }\n",
       "\n",
       "    .dataframe tbody tr th {\n",
       "        vertical-align: top;\n",
       "    }\n",
       "\n",
       "    .dataframe thead th {\n",
       "        text-align: right;\n",
       "    }\n",
       "</style>\n",
       "<table border=\"1\" class=\"dataframe\">\n",
       "  <thead>\n",
       "    <tr style=\"text-align: right;\">\n",
       "      <th></th>\n",
       "      <th>국어</th>\n",
       "      <th>영어</th>\n",
       "      <th>수학</th>\n",
       "      <th>과학</th>\n",
       "      <th>소속</th>\n",
       "    </tr>\n",
       "  </thead>\n",
       "  <tbody>\n",
       "    <tr>\n",
       "      <th>A</th>\n",
       "      <td>60</td>\n",
       "      <td>84</td>\n",
       "      <td>80</td>\n",
       "      <td>70.0</td>\n",
       "      <td>문예부</td>\n",
       "    </tr>\n",
       "    <tr>\n",
       "      <th>B</th>\n",
       "      <td>77</td>\n",
       "      <td>62</td>\n",
       "      <td>95</td>\n",
       "      <td>85.0</td>\n",
       "      <td>과학부</td>\n",
       "    </tr>\n",
       "    <tr>\n",
       "      <th>D</th>\n",
       "      <td>75</td>\n",
       "      <td>65</td>\n",
       "      <td>95</td>\n",
       "      <td>NaN</td>\n",
       "      <td>다도부</td>\n",
       "    </tr>\n",
       "  </tbody>\n",
       "</table>\n",
       "</div>"
      ],
      "text/plain": [
       "   국어  영어  수학    과학   소속\n",
       "A  60  84  80  70.0  문예부\n",
       "B  77  62  95  85.0  과학부\n",
       "D  75  65  95   NaN  다도부"
      ]
     },
     "execution_count": 32,
     "metadata": {},
     "output_type": "execute_result"
    }
   ],
   "source": [
    "df.loc[(~df[\"과학\"].isnull()) | (df[\"수학\"] > 90)] # | or 조건일때 () 소괄호로 감싸 줘야 함"
   ]
  },
  {
   "cell_type": "code",
   "execution_count": 33,
   "id": "35dd8f84",
   "metadata": {},
   "outputs": [
    {
     "data": {
      "text/html": [
       "<div>\n",
       "<style scoped>\n",
       "    .dataframe tbody tr th:only-of-type {\n",
       "        vertical-align: middle;\n",
       "    }\n",
       "\n",
       "    .dataframe tbody tr th {\n",
       "        vertical-align: top;\n",
       "    }\n",
       "\n",
       "    .dataframe thead th {\n",
       "        text-align: right;\n",
       "    }\n",
       "</style>\n",
       "<table border=\"1\" class=\"dataframe\">\n",
       "  <thead>\n",
       "    <tr style=\"text-align: right;\">\n",
       "      <th></th>\n",
       "      <th>국어</th>\n",
       "      <th>영어</th>\n",
       "      <th>수학</th>\n",
       "      <th>과학</th>\n",
       "      <th>소속</th>\n",
       "    </tr>\n",
       "  </thead>\n",
       "  <tbody>\n",
       "    <tr>\n",
       "      <th>A</th>\n",
       "      <td>60</td>\n",
       "      <td>84</td>\n",
       "      <td>80</td>\n",
       "      <td>70.0</td>\n",
       "      <td>문예부</td>\n",
       "    </tr>\n",
       "    <tr>\n",
       "      <th>B</th>\n",
       "      <td>77</td>\n",
       "      <td>62</td>\n",
       "      <td>95</td>\n",
       "      <td>85.0</td>\n",
       "      <td>과학부</td>\n",
       "    </tr>\n",
       "    <tr>\n",
       "      <th>D</th>\n",
       "      <td>75</td>\n",
       "      <td>65</td>\n",
       "      <td>95</td>\n",
       "      <td>NaN</td>\n",
       "      <td>다도부</td>\n",
       "    </tr>\n",
       "  </tbody>\n",
       "</table>\n",
       "</div>"
      ],
      "text/plain": [
       "   국어  영어  수학    과학   소속\n",
       "A  60  84  80  70.0  문예부\n",
       "B  77  62  95  85.0  과학부\n",
       "D  75  65  95   NaN  다도부"
      ]
     },
     "execution_count": 33,
     "metadata": {},
     "output_type": "execute_result"
    }
   ],
   "source": [
    "df.loc[df[\"소속\"] != \"농구부\"]"
   ]
  },
  {
   "cell_type": "code",
   "execution_count": 34,
   "id": "1be74a0e",
   "metadata": {},
   "outputs": [
    {
     "data": {
      "text/html": [
       "<div>\n",
       "<style scoped>\n",
       "    .dataframe tbody tr th:only-of-type {\n",
       "        vertical-align: middle;\n",
       "    }\n",
       "\n",
       "    .dataframe tbody tr th {\n",
       "        vertical-align: top;\n",
       "    }\n",
       "\n",
       "    .dataframe thead th {\n",
       "        text-align: right;\n",
       "    }\n",
       "</style>\n",
       "<table border=\"1\" class=\"dataframe\">\n",
       "  <thead>\n",
       "    <tr style=\"text-align: right;\">\n",
       "      <th></th>\n",
       "      <th>국어</th>\n",
       "      <th>영어</th>\n",
       "      <th>수학</th>\n",
       "      <th>과학</th>\n",
       "      <th>소속</th>\n",
       "    </tr>\n",
       "  </thead>\n",
       "  <tbody>\n",
       "    <tr>\n",
       "      <th>A</th>\n",
       "      <td>60</td>\n",
       "      <td>84</td>\n",
       "      <td>80</td>\n",
       "      <td>70.0</td>\n",
       "      <td>문예부</td>\n",
       "    </tr>\n",
       "    <tr>\n",
       "      <th>B</th>\n",
       "      <td>77</td>\n",
       "      <td>62</td>\n",
       "      <td>95</td>\n",
       "      <td>85.0</td>\n",
       "      <td>과학부</td>\n",
       "    </tr>\n",
       "    <tr>\n",
       "      <th>D</th>\n",
       "      <td>75</td>\n",
       "      <td>65</td>\n",
       "      <td>95</td>\n",
       "      <td>NaN</td>\n",
       "      <td>다도부</td>\n",
       "    </tr>\n",
       "  </tbody>\n",
       "</table>\n",
       "</div>"
      ],
      "text/plain": [
       "   국어  영어  수학    과학   소속\n",
       "A  60  84  80  70.0  문예부\n",
       "B  77  62  95  85.0  과학부\n",
       "D  75  65  95   NaN  다도부"
      ]
     },
     "execution_count": 34,
     "metadata": {},
     "output_type": "execute_result"
    }
   ],
   "source": [
    "cond1 = df[\"소속\"] == \"문예부\"\n",
    "cond2 = df[\"소속\"] == \"과학부\"\n",
    "cond3 = df[\"소속\"] == \"다도부\"\n",
    "df[cond1 | cond2 | cond3]"
   ]
  },
  {
   "cell_type": "markdown",
   "id": "8009f3a3",
   "metadata": {},
   "source": [
    "- isin 함수를 이용해 문예부와 과학부와 다도부의 데이터만 추출하라"
   ]
  },
  {
   "cell_type": "code",
   "execution_count": 35,
   "id": "faff3bc2",
   "metadata": {},
   "outputs": [
    {
     "data": {
      "text/plain": [
       "['문예부', '과학부', '다도부']"
      ]
     },
     "execution_count": 35,
     "metadata": {},
     "output_type": "execute_result"
    }
   ],
   "source": [
    "b1"
   ]
  },
  {
   "cell_type": "code",
   "execution_count": 36,
   "id": "566885c8",
   "metadata": {},
   "outputs": [
    {
     "data": {
      "text/plain": [
       "A     True\n",
       "B     True\n",
       "C    False\n",
       "D     True\n",
       "Name: 소속, dtype: bool"
      ]
     },
     "execution_count": 36,
     "metadata": {},
     "output_type": "execute_result"
    }
   ],
   "source": [
    "df[\"소속\"].isin(b1)"
   ]
  },
  {
   "cell_type": "code",
   "execution_count": 37,
   "id": "99123734",
   "metadata": {},
   "outputs": [
    {
     "data": {
      "text/html": [
       "<div>\n",
       "<style scoped>\n",
       "    .dataframe tbody tr th:only-of-type {\n",
       "        vertical-align: middle;\n",
       "    }\n",
       "\n",
       "    .dataframe tbody tr th {\n",
       "        vertical-align: top;\n",
       "    }\n",
       "\n",
       "    .dataframe thead th {\n",
       "        text-align: right;\n",
       "    }\n",
       "</style>\n",
       "<table border=\"1\" class=\"dataframe\">\n",
       "  <thead>\n",
       "    <tr style=\"text-align: right;\">\n",
       "      <th></th>\n",
       "      <th>국어</th>\n",
       "      <th>영어</th>\n",
       "      <th>수학</th>\n",
       "      <th>과학</th>\n",
       "      <th>소속</th>\n",
       "    </tr>\n",
       "  </thead>\n",
       "  <tbody>\n",
       "    <tr>\n",
       "      <th>A</th>\n",
       "      <td>60</td>\n",
       "      <td>84</td>\n",
       "      <td>80</td>\n",
       "      <td>70.0</td>\n",
       "      <td>문예부</td>\n",
       "    </tr>\n",
       "    <tr>\n",
       "      <th>B</th>\n",
       "      <td>77</td>\n",
       "      <td>62</td>\n",
       "      <td>95</td>\n",
       "      <td>85.0</td>\n",
       "      <td>과학부</td>\n",
       "    </tr>\n",
       "    <tr>\n",
       "      <th>D</th>\n",
       "      <td>75</td>\n",
       "      <td>65</td>\n",
       "      <td>95</td>\n",
       "      <td>NaN</td>\n",
       "      <td>다도부</td>\n",
       "    </tr>\n",
       "  </tbody>\n",
       "</table>\n",
       "</div>"
      ],
      "text/plain": [
       "   국어  영어  수학    과학   소속\n",
       "A  60  84  80  70.0  문예부\n",
       "B  77  62  95  85.0  과학부\n",
       "D  75  65  95   NaN  다도부"
      ]
     },
     "execution_count": 37,
     "metadata": {},
     "output_type": "execute_result"
    }
   ],
   "source": [
    "df.loc[df[\"소속\"].isin(b1)] # boolean indexing"
   ]
  },
  {
   "cell_type": "code",
   "execution_count": null,
   "id": "cd87865f",
   "metadata": {},
   "outputs": [],
   "source": []
  }
 ],
 "metadata": {
  "kernelspec": {
   "display_name": "Python 3 (ipykernel)",
   "language": "python",
   "name": "python3"
  },
  "language_info": {
   "codemirror_mode": {
    "name": "ipython",
    "version": 3
   },
   "file_extension": ".py",
   "mimetype": "text/x-python",
   "name": "python",
   "nbconvert_exporter": "python",
   "pygments_lexer": "ipython3",
   "version": "3.9.12"
  }
 },
 "nbformat": 4,
 "nbformat_minor": 5
}
