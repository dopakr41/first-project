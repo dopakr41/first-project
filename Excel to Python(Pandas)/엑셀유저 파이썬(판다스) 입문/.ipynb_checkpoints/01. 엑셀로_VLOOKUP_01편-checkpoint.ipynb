{
 "cells": [
  {
   "cell_type": "markdown",
   "id": "7276937c",
   "metadata": {},
   "source": [
    "# 1. 엑셀 읽어오기 : read_excel()"
   ]
  },
  {
   "cell_type": "code",
   "execution_count": 1,
   "id": "e73a2c98",
   "metadata": {},
   "outputs": [
    {
     "data": {
      "text/html": [
       "<div>\n",
       "<style scoped>\n",
       "    .dataframe tbody tr th:only-of-type {\n",
       "        vertical-align: middle;\n",
       "    }\n",
       "\n",
       "    .dataframe tbody tr th {\n",
       "        vertical-align: top;\n",
       "    }\n",
       "\n",
       "    .dataframe thead th {\n",
       "        text-align: right;\n",
       "    }\n",
       "</style>\n",
       "<table border=\"1\" class=\"dataframe\">\n",
       "  <thead>\n",
       "    <tr style=\"text-align: right;\">\n",
       "      <th></th>\n",
       "      <th>이름</th>\n",
       "      <th>제품</th>\n",
       "    </tr>\n",
       "  </thead>\n",
       "  <tbody>\n",
       "    <tr>\n",
       "      <th>0</th>\n",
       "      <td>백철민</td>\n",
       "      <td>아이스티</td>\n",
       "    </tr>\n",
       "    <tr>\n",
       "      <th>1</th>\n",
       "      <td>박태인</td>\n",
       "      <td>레몬에이드</td>\n",
       "    </tr>\n",
       "    <tr>\n",
       "      <th>2</th>\n",
       "      <td>국지용</td>\n",
       "      <td>아메리카노</td>\n",
       "    </tr>\n",
       "    <tr>\n",
       "      <th>3</th>\n",
       "      <td>강민석</td>\n",
       "      <td>레몬에이드</td>\n",
       "    </tr>\n",
       "    <tr>\n",
       "      <th>4</th>\n",
       "      <td>박훈정</td>\n",
       "      <td>아이스티</td>\n",
       "    </tr>\n",
       "    <tr>\n",
       "      <th>...</th>\n",
       "      <td>...</td>\n",
       "      <td>...</td>\n",
       "    </tr>\n",
       "    <tr>\n",
       "      <th>369</th>\n",
       "      <td>김경남</td>\n",
       "      <td>아메리카노</td>\n",
       "    </tr>\n",
       "    <tr>\n",
       "      <th>370</th>\n",
       "      <td>기정수</td>\n",
       "      <td>유자차</td>\n",
       "    </tr>\n",
       "    <tr>\n",
       "      <th>371</th>\n",
       "      <td>기주봉</td>\n",
       "      <td>아이스티</td>\n",
       "    </tr>\n",
       "    <tr>\n",
       "      <th>372</th>\n",
       "      <td>백승환</td>\n",
       "      <td>바닐라라떼</td>\n",
       "    </tr>\n",
       "    <tr>\n",
       "      <th>373</th>\n",
       "      <td>계승현</td>\n",
       "      <td>레몬에이드</td>\n",
       "    </tr>\n",
       "  </tbody>\n",
       "</table>\n",
       "<p>374 rows × 2 columns</p>\n",
       "</div>"
      ],
      "text/plain": [
       "      이름     제품\n",
       "0    백철민   아이스티\n",
       "1    박태인  레몬에이드\n",
       "2    국지용  아메리카노\n",
       "3    강민석  레몬에이드\n",
       "4    박훈정   아이스티\n",
       "..   ...    ...\n",
       "369  김경남  아메리카노\n",
       "370  기정수    유자차\n",
       "371  기주봉   아이스티\n",
       "372  백승환  바닐라라떼\n",
       "373  계승현  레몬에이드\n",
       "\n",
       "[374 rows x 2 columns]"
      ]
     },
     "execution_count": 1,
     "metadata": {},
     "output_type": "execute_result"
    }
   ],
   "source": [
    "import pandas as pd\n",
    "\n",
    "df1 = pd.read_excel(\"E01EXAMPLE.xlsx\", sheet_name=1)\n",
    "df1"
   ]
  },
  {
   "cell_type": "code",
   "execution_count": 2,
   "id": "3f832808",
   "metadata": {},
   "outputs": [
    {
     "data": {
      "text/html": [
       "<div>\n",
       "<style scoped>\n",
       "    .dataframe tbody tr th:only-of-type {\n",
       "        vertical-align: middle;\n",
       "    }\n",
       "\n",
       "    .dataframe tbody tr th {\n",
       "        vertical-align: top;\n",
       "    }\n",
       "\n",
       "    .dataframe thead th {\n",
       "        text-align: right;\n",
       "    }\n",
       "</style>\n",
       "<table border=\"1\" class=\"dataframe\">\n",
       "  <thead>\n",
       "    <tr style=\"text-align: right;\">\n",
       "      <th></th>\n",
       "      <th>제품</th>\n",
       "      <th>가격</th>\n",
       "    </tr>\n",
       "  </thead>\n",
       "  <tbody>\n",
       "    <tr>\n",
       "      <th>0</th>\n",
       "      <td>아메리카노</td>\n",
       "      <td>3900</td>\n",
       "    </tr>\n",
       "    <tr>\n",
       "      <th>1</th>\n",
       "      <td>바닐라라떼</td>\n",
       "      <td>3900</td>\n",
       "    </tr>\n",
       "    <tr>\n",
       "      <th>2</th>\n",
       "      <td>까페라떼</td>\n",
       "      <td>3900</td>\n",
       "    </tr>\n",
       "    <tr>\n",
       "      <th>3</th>\n",
       "      <td>아이스티</td>\n",
       "      <td>4400</td>\n",
       "    </tr>\n",
       "    <tr>\n",
       "      <th>4</th>\n",
       "      <td>얼그레이</td>\n",
       "      <td>3800</td>\n",
       "    </tr>\n",
       "    <tr>\n",
       "      <th>5</th>\n",
       "      <td>유자차</td>\n",
       "      <td>3500</td>\n",
       "    </tr>\n",
       "    <tr>\n",
       "      <th>6</th>\n",
       "      <td>아인슈페너</td>\n",
       "      <td>3500</td>\n",
       "    </tr>\n",
       "    <tr>\n",
       "      <th>7</th>\n",
       "      <td>자몽티</td>\n",
       "      <td>4100</td>\n",
       "    </tr>\n",
       "    <tr>\n",
       "      <th>8</th>\n",
       "      <td>레몬에이드</td>\n",
       "      <td>4400</td>\n",
       "    </tr>\n",
       "    <tr>\n",
       "      <th>9</th>\n",
       "      <td>오렌지주스</td>\n",
       "      <td>3600</td>\n",
       "    </tr>\n",
       "  </tbody>\n",
       "</table>\n",
       "</div>"
      ],
      "text/plain": [
       "      제품    가격\n",
       "0  아메리카노  3900\n",
       "1  바닐라라떼  3900\n",
       "2   까페라떼  3900\n",
       "3   아이스티  4400\n",
       "4   얼그레이  3800\n",
       "5    유자차  3500\n",
       "6  아인슈페너  3500\n",
       "7    자몽티  4100\n",
       "8  레몬에이드  4400\n",
       "9  오렌지주스  3600"
      ]
     },
     "execution_count": 2,
     "metadata": {},
     "output_type": "execute_result"
    }
   ],
   "source": [
    "df2 = pd.read_excel(\"E01EXAMPLE.xlsx\", sheet_name=2)\n",
    "df2"
   ]
  },
  {
   "cell_type": "markdown",
   "id": "7d9a2158",
   "metadata": {},
   "source": [
    "# 2. 데이터프레임 병함 : merge()"
   ]
  },
  {
   "cell_type": "code",
   "execution_count": 3,
   "id": "84e3c07b",
   "metadata": {},
   "outputs": [],
   "source": [
    "df3 = df1.merge(df2, how=\"left\")"
   ]
  },
  {
   "cell_type": "markdown",
   "id": "e128971e",
   "metadata": {},
   "source": [
    "# 3. 클립보드에 복사 : to_clipboard()"
   ]
  },
  {
   "cell_type": "code",
   "execution_count": 4,
   "id": "7ec9483f",
   "metadata": {},
   "outputs": [],
   "source": [
    "df3.to_clipboard(index=False)"
   ]
  },
  {
   "cell_type": "markdown",
   "id": "2c20e34e",
   "metadata": {},
   "source": [
    "# 4. 전체코드"
   ]
  },
  {
   "cell_type": "code",
   "execution_count": 5,
   "id": "37336dda",
   "metadata": {},
   "outputs": [],
   "source": [
    "import pandas as pd\n",
    "df1 = pd.read_excel(\"E01EXAMPLE.xlsx\", sheet_name=1)\n",
    "df2 = pd.read_excel(\"E01EXAMPLE.xlsx\", sheet_name=2)\n",
    "df3 = df1.merge(df2, how='left')\n",
    "df3.to_clipboard(index=False)"
   ]
  }
 ],
 "metadata": {
  "kernelspec": {
   "display_name": "Python 3 (ipykernel)",
   "language": "python",
   "name": "python3"
  },
  "language_info": {
   "codemirror_mode": {
    "name": "ipython",
    "version": 3
   },
   "file_extension": ".py",
   "mimetype": "text/x-python",
   "name": "python",
   "nbconvert_exporter": "python",
   "pygments_lexer": "ipython3",
   "version": "3.9.12"
  }
 },
 "nbformat": 4,
 "nbformat_minor": 5
}
