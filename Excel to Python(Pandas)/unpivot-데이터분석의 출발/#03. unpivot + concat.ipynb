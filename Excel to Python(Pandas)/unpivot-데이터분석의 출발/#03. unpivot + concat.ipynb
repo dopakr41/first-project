{
 "cells": [
  {
   "cell_type": "code",
   "execution_count": 14,
   "metadata": {},
   "outputs": [],
   "source": [
    "import pandas as pd\n",
    "\n",
    "udf1 = pd.read_excel(\"D00EXAMPLE.xlsx\").set_index(\"노래\").stack().reset_index()\n",
    "udf1.columns = [\"심사자\", \"참가자\", \"점수\"]\n",
    "udf1[\"종목\"] = \"노래\""
   ]
  },
  {
   "cell_type": "code",
   "execution_count": 15,
   "metadata": {},
   "outputs": [],
   "source": [
    "udf2 = pd.read_excel(\"D00EXAMPLE.xlsx\", sheet_name=1).set_index(\"댄스\").stack().reset_index()\n",
    "udf2.columns = [\"심사자\", \"참가자\", \"점수\"]\n",
    "udf2[\"종목\"] = \"댄스\""
   ]
  },
  {
   "cell_type": "code",
   "execution_count": 16,
   "metadata": {},
   "outputs": [],
   "source": [
    "udf3 = pd.read_excel(\"D00EXAMPLE.xlsx\", sheet_name=2).set_index(\"스타성\").stack().reset_index()\n",
    "udf3.columns = [\"심사자\", \"참가자\", \"점수\"]\n",
    "udf3[\"종목\"] = \"스타성\""
   ]
  },
  {
   "cell_type": "code",
   "execution_count": 18,
   "metadata": {},
   "outputs": [],
   "source": [
    "pdf1 = pd.concat([udf1, udf2, udf3])"
   ]
  },
  {
   "cell_type": "code",
   "execution_count": 20,
   "metadata": {},
   "outputs": [],
   "source": [
    "pdf1 = pdf1.pivot_table(\"점수\", index=\"종목\", columns=\"참가자\", aggfunc=\"mean\")\n",
    "pdf1.to_clipboard()"
   ]
  },
  {
   "cell_type": "code",
   "execution_count": 21,
   "metadata": {},
   "outputs": [],
   "source": [
    "# 전체코드\n",
    "import pandas as pd\n",
    "\n",
    "udf1 = pd.read_excel(\"D00EXAMPLE.xlsx\").set_index(\"노래\").stack().reset_index()\n",
    "udf1.columns = [\"심사자\", \"참가자\", \"점수\"]\n",
    "udf1[\"종목\"] = \"노래\"\n",
    "\n",
    "udf2 = pd.read_excel(\"D00EXAMPLE.xlsx\", sheet_name=1).set_index(\"댄스\").stack().reset_index()\n",
    "udf2.columns = [\"심사자\", \"참가자\", \"점수\"]\n",
    "udf2[\"종목\"] = \"댄스\"\n",
    "\n",
    "udf3 = pd.read_excel(\"D00EXAMPLE.xlsx\", sheet_name=2).set_index(\"스타성\").stack().reset_index()\n",
    "udf3.columns = [\"심사자\", \"참가자\", \"점수\"]\n",
    "udf3[\"종목\"] = \"스타성\"\n",
    "\n",
    "pdf1 = pd.concat([udf1, udf2, udf3])\n",
    "pdf1 = pdf1.pivot_table(\"점수\", index=\"종목\", columns=\"참가자\", aggfunc=\"mean\")\n",
    "pdf1.to_clipboard()"
   ]
  }
 ],
 "metadata": {
  "kernelspec": {
   "display_name": "Python 3",
   "language": "python",
   "name": "python3"
  },
  "language_info": {
   "codemirror_mode": {
    "name": "ipython",
    "version": 3
   },
   "file_extension": ".py",
   "mimetype": "text/x-python",
   "name": "python",
   "nbconvert_exporter": "python",
   "pygments_lexer": "ipython3",
   "version": "3.10.7"
  },
  "orig_nbformat": 4,
  "vscode": {
   "interpreter": {
    "hash": "0645ee286cefe3805bb2353f42ecbd5f5af2a08b2a94216f635a9542705c3b26"
   }
  }
 },
 "nbformat": 4,
 "nbformat_minor": 2
}
